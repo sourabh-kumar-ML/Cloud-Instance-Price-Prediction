{
 "cells": [
  {
   "cell_type": "code",
   "execution_count": null,
   "metadata": {},
   "outputs": [],
   "source": [
    "import findspark\n",
    "findspark.init() "
   ]
  },
  {
   "cell_type": "code",
   "execution_count": null,
   "metadata": {},
   "outputs": [],
   "source": [
    "# Pyspark context creation\n",
    "from pyspark import SparkContext\n",
    "sc = SparkContext()\n",
    "from pyspark import SQLContext\n",
    "sqlContext = SQLContext(sc)"
   ]
  },
  {
   "cell_type": "code",
   "execution_count": null,
   "metadata": {},
   "outputs": [],
   "source": [
    "# Importing required libraries\n",
    "from pyspark.sql.functions import *\n",
    "from pyspark.sql.types import StructType, StringType, DoubleType,DateType\n",
    "\n",
    "import pandas as pd\n",
    "import plotly.express as px"
   ]
  },
  {
   "cell_type": "markdown",
   "metadata": {},
   "source": [
    "# Data Processing"
   ]
  },
  {
   "cell_type": "code",
   "execution_count": null,
   "metadata": {},
   "outputs": [],
   "source": [
    "\"\"\"['ap-northeast-1.csv','ap-northeast-2.csv','ap-south-1.csv','ap-southeast-1.csv','ap-southeast-2.csv',\n",
    " 'ca-central-1.csv','eu-central-1.csv','eu-west-1.csv','sa-east-1.csv','us-east-1.csv','us-west-1.csv']\"\"\"\n",
    "\n",
    "file_names = ['ap-northeast-1.csv','ap-northeast-2.csv']"
   ]
  },
  {
   "cell_type": "code",
   "execution_count": null,
   "metadata": {},
   "outputs": [],
   "source": [
    "# Using sqlcontext to load data\n",
    "data = sqlContext.read.format('csv').options(inferSchema = True).load(\"data/{}\".format(file_names[0]))\n",
    "\n",
    "# Renaming Column names\n",
    "data = data.select(date_format(col(\"_c0\"), \"dd-MM-yyyy hh:mm:ss\").alias(\"Date\"),col(\"_c1\").alias(\"Instance Type\"),\n",
    "                  col(\"_c2\").alias(\"OS\"),col(\"_c3\").alias(\"Region\"),col(\"_c4\").alias(\"Price\"))"
   ]
  },
  {
   "cell_type": "code",
   "execution_count": null,
   "metadata": {},
   "outputs": [],
   "source": [
    "for files in file_names[1:]:\n",
    "    print(files)\n",
    "    temp_data = sqlContext.read.format('csv').options(inferSchema = True).load(\"data/{}\".format(files))\n",
    "    temp_data = temp_data.select(date_format(col(\"_c0\"), \"dd-MM-yyyy hh:mm:ss\").alias(\"Date\"),col(\"_c1\").alias(\"Instance Type\"),\n",
    "                  col(\"_c2\").alias(\"OS\"),col(\"_c3\").alias(\"Region\"),col(\"_c4\").alias(\"Price\"))\n",
    "    data = data.union(temp_data)"
   ]
  },
  {
   "cell_type": "code",
   "execution_count": null,
   "metadata": {},
   "outputs": [],
   "source": [
    "# dig at data\n",
    "data.show(5)"
   ]
  },
  {
   "cell_type": "code",
   "execution_count": null,
   "metadata": {},
   "outputs": [],
   "source": [
    "#About data\n",
    "print(\"data : ap-northeast-1\")\n",
    "print('Columns --> ',data.columns)\n",
    "print('Shape --> ',data.count(),\",\",len(data.columns))"
   ]
  },
  {
   "cell_type": "code",
   "execution_count": null,
   "metadata": {},
   "outputs": [],
   "source": [
    "# Data Description\n",
    "data.describe().show()"
   ]
  },
  {
   "cell_type": "markdown",
   "metadata": {},
   "source": [
    "# Data visualisation"
   ]
  },
  {
   "cell_type": "code",
   "execution_count": null,
   "metadata": {},
   "outputs": [],
   "source": [
    "# grouping data by os type and Region and finding average value of Price\n",
    "df = data.select(\"Region\",\"OS\",\"Price\").groupby(\"OS\",\"Region\").avg(\"Price\").toPandas()"
   ]
  },
  {
   "cell_type": "code",
   "execution_count": null,
   "metadata": {},
   "outputs": [],
   "source": [
    "# Plotting bar plot\n",
    "px.bar(df,x = \"OS\",y = \"avg(Price)\", color = \"Region\",title = \"avg of Price of various OS\")"
   ]
  },
  {
   "cell_type": "code",
   "execution_count": null,
   "metadata": {},
   "outputs": [],
   "source": [
    "# grouping data by os type and instance type and finding average value of Price\n",
    "df = data.select(\"Instance Type\",\"OS\",\"Price\").groupby(\"OS\",\"Instance Type\").avg(\"Price\").toPandas()\n"
   ]
  },
  {
   "cell_type": "code",
   "execution_count": null,
   "metadata": {},
   "outputs": [],
   "source": [
    "# Plotting bar plot\n",
    "px.bar(df,x = \"OS\",y = \"avg(Price)\", color = \"Instance Type\",title = \"data : northeast1, avg of Price of various OS\")"
   ]
  },
  {
   "cell_type": "code",
   "execution_count": null,
   "metadata": {},
   "outputs": [],
   "source": [
    "# Converting to Panda for better visualization\n",
    "data = data.toPandas()"
   ]
  },
  {
   "cell_type": "code",
   "execution_count": null,
   "metadata": {},
   "outputs": [],
   "source": [
    "# Getting value counts of various instances\n",
    "idx = data[\"Instance Type\"].value_counts().index\n",
    "values = data[\"Instance Type\"].value_counts().values\n",
    "px.bar(x=idx,y=values,color=values,title=\"Instance Types\")"
   ]
  },
  {
   "cell_type": "code",
   "execution_count": null,
   "metadata": {},
   "outputs": [],
   "source": [
    "df = data[data[\"Instance Type\"] == \"m3.xlarge\"]\n",
    "px.scatter(df,x=\"Date\",y=\"Price\",color=\"OS\",title=\"data : northeast1, instance :m3.xlarge \")"
   ]
  },
  {
   "cell_type": "code",
   "execution_count": null,
   "metadata": {},
   "outputs": [],
   "source": [
    "data_win = df[df[\"OS\"]==\"Windows\"]\n",
    "px.line(data_win,x=\"Date\",y=\"Price\",title=\"Price of instance :m3.xlarge, OS: Windows \")"
   ]
  },
  {
   "cell_type": "code",
   "execution_count": null,
   "metadata": {},
   "outputs": [],
   "source": [
    "data_lin = df[df[\"OS\"]==\"Linux/UNIX\"]\n",
    "px.line(data_lin,x=\"Date\",y=\"Price\",title=\"Price of instance :m3.xlarge, OS: Linux/UNIX \")"
   ]
  },
  {
   "cell_type": "code",
   "execution_count": null,
   "metadata": {},
   "outputs": [],
   "source": [
    "data_sus = df[df[\"OS\"]==\"SUSE Linux\"]\n",
    "px.line(data_sus,x=\"Date\",y=\"Price\",title=\"Price of instance :m3.xlarge, OS: SUSE Linux \")"
   ]
  },
  {
   "cell_type": "code",
   "execution_count": null,
   "metadata": {},
   "outputs": [],
   "source": []
  },
  {
   "cell_type": "code",
   "execution_count": null,
   "metadata": {},
   "outputs": [],
   "source": [
    "data.Date = pd.to_datetime(data.Date)\n",
    "# getting hour of day\n",
    "data[\"hour\"] = data.Date.dt.hour\n",
    "# calculating mean price of every hour\n",
    "pricedist = data.groupby(data.hour).mean()"
   ]
  },
  {
   "cell_type": "code",
   "execution_count": null,
   "metadata": {},
   "outputs": [],
   "source": [
    "# Plotting mean price per hour\n",
    "px.line(pricedist, x = pricedist.index.values,y =\"Price\",title=\"Price variations/hour\")"
   ]
  },
  {
   "cell_type": "code",
   "execution_count": null,
   "metadata": {},
   "outputs": [],
   "source": [
    "# getting month\n",
    "data[\"month\"] = data.Date.dt.month\n",
    "# calculating mean price of every month\n",
    "pricedist = data.groupby(data.month).mean()"
   ]
  },
  {
   "cell_type": "code",
   "execution_count": null,
   "metadata": {},
   "outputs": [],
   "source": [
    "# Plotting mean price per month\n",
    "px.line(pricedist, x = pricedist.index.values,y =\"Price\",title=\"Price variations/month\")"
   ]
  },
  {
   "cell_type": "code",
   "execution_count": null,
   "metadata": {},
   "outputs": [],
   "source": [
    "# Saving data to csv format\n",
    "data.to_csv(\"finalData.csv\",index=None)"
   ]
  },
  {
   "cell_type": "code",
   "execution_count": null,
   "metadata": {},
   "outputs": [],
   "source": []
  }
 ],
 "metadata": {
  "kernelspec": {
   "display_name": "Python 3",
   "language": "python",
   "name": "python3"
  },
  "language_info": {
   "codemirror_mode": {
    "name": "ipython",
    "version": 3
   },
   "file_extension": ".py",
   "mimetype": "text/x-python",
   "name": "python",
   "nbconvert_exporter": "python",
   "pygments_lexer": "ipython3",
   "version": "3.7.3"
  }
 },
 "nbformat": 4,
 "nbformat_minor": 2
}
